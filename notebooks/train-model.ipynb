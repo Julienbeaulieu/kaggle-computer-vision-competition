{
 "cells": [
  {
   "cell_type": "code",
   "execution_count": 1,
   "metadata": {
    "ExecuteTime": {
     "end_time": "2020-02-23T17:18:11.757347Z",
     "start_time": "2020-02-23T17:18:11.727270Z"
    }
   },
   "outputs": [],
   "source": [
    "%load_ext autoreload\n",
    "%autoreload 2"
   ]
  },
  {
   "cell_type": "code",
   "execution_count": 11,
   "metadata": {
    "ExecuteTime": {
     "end_time": "2020-02-23T17:18:59.822851Z",
     "start_time": "2020-02-23T17:18:59.779932Z"
    }
   },
   "outputs": [],
   "source": [
    "import numpy as np\n",
    "import os\n",
    "import sys \n",
    "import pickle\n",
    "\n",
    "sys.path.append('../')\n",
    "import torch\n",
    "from src.config.config import cfg"
   ]
  },
  {
   "cell_type": "code",
   "execution_count": 12,
   "metadata": {
    "ExecuteTime": {
     "end_time": "2020-02-23T17:19:00.900931Z",
     "start_time": "2020-02-23T17:18:59.946485Z"
    }
   },
   "outputs": [
    {
     "name": "stderr",
     "output_type": "stream",
     "text": [
      "C:\\Users\\nasty\\Anaconda3\\envs\\bengaliai\\lib\\site-packages\\sklearn\\utils\\deprecation.py:144: FutureWarning: The sklearn.metrics.classification module is  deprecated in version 0.22 and will be removed in version 0.24. The corresponding classes / functions should instead be imported from sklearn.metrics. Anything that cannot be imported from sklearn.metrics is now part of the private API.\n",
      "  warnings.warn(message, FutureWarning)\n"
     ]
    }
   ],
   "source": [
    "from src.tools.train import train"
   ]
  },
  {
   "cell_type": "code",
   "execution_count": 13,
   "metadata": {
    "ExecuteTime": {
     "end_time": "2020-02-23T17:34:43.628741Z",
     "start_time": "2020-02-23T17:19:01.011636Z"
    },
    "scrolled": true
   },
   "outputs": [
    {
     "name": "stdout",
     "output_type": "stream",
     "text": [
      "Start epoch 0\n",
      "0 8.354449272155762 0.03125\n",
      "Learning rate now set to: 0.0004000185997702528\n",
      "100 6.828996181488037 0.5520833730697632\n",
      "Learning rate now set to: 0.0005884896719689139\n",
      "200 6.094797611236572 0.40625\n",
      "Learning rate now set to: 0.0011320464622370588\n",
      "300 7.207554817199707 0.3958333432674408\n",
      "Learning rate now set to: 0.0019888351657570517\n",
      "400 6.574718952178955 0.4583333432674408\n",
      "Learning rate now set to: 0.003092883159595811\n",
      "500 7.5094194412231445 0.4166666865348816\n",
      "Learning rate now set to: 0.004359178886413339\n",
      "600 5.4824910163879395 0.4583333432674408\n",
      "Learning rate now set to: 0.00569021773373763\n",
      "700 6.833477020263672 0.3854166865348816\n",
      "Learning rate now set to: 0.006983509876921081\n",
      "800 5.935746669769287 0.4895833432674408\n",
      "Learning rate now set to: 0.008139471982810453\n",
      "900 5.273547172546387 0.46875\n",
      "Learning rate now set to: 0.009069095113935562\n",
      "1000 7.327714920043945 0.4375\n",
      "Learning rate now set to: 0.009700798405553877\n",
      "1100 4.827503204345703 0.40625\n",
      "Learning rate now set to: 0.009985940783276458\n",
      "1200 4.758641242980957 0.4791666865348816\n",
      "Learning rate now set to: 0.00998133974097668\n",
      "Epoch 0 Training, Loss 6.253140060455201, Acc 0.4470700644758118, kaggle Score 0.29209249627447254\n"
     ]
    },
    {
     "name": "stderr",
     "output_type": "stream",
     "text": [
      "C:\\Users\\nasty\\Anaconda3\\envs\\bengaliai\\lib\\site-packages\\sklearn\\metrics\\_classification.py:1272: UndefinedMetricWarning: Precision and F-score are ill-defined and being set to 0.0 in labels with no predicted samples. Use `zero_division` parameter to control this behavior.\n",
      "  _warn_prf(average, modifier, msg_start, len(result))\n"
     ]
    },
    {
     "name": "stdout",
     "output_type": "stream",
     "text": [
      "Epoch 0 Eval, Loss 5.49006231822026, Acc 0.49850718003169747, Kaggle score 0.37687331091590276\n",
      "Saving the model (epoch 0)\n",
      "Making a backup (step 0)\n",
      "Start epoch 1\n",
      "0 4.636768817901611 0.5729166865348816\n",
      "Learning rate now set to: 0.009942363685572771\n",
      "100 5.718292236328125 0.5\n",
      "Learning rate now set to: 0.00981726928043239\n",
      "200 5.647209644317627 0.4583333432674408\n",
      "Learning rate now set to: 0.009623805988125593\n",
      "300 4.843685150146484 0.5520833730697632\n",
      "Learning rate now set to: 0.00936471953951092\n",
      "400 5.201348781585693 0.5208333730697632\n",
      "Learning rate now set to: 0.009043687023138399\n",
      "500 3.9482665061950684 0.5104166865348816\n",
      "Learning rate now set to: 0.008665264698111694\n",
      "600 4.623061656951904 0.5416666865348816\n",
      "Learning rate now set to: 0.008234823329308206\n",
      "700 3.8760900497436523 0.6145833730697632\n",
      "Learning rate now set to: 0.007758471962712955\n",
      "800 3.459341049194336 0.5729166865348816\n",
      "Learning rate now set to: 0.007242971222686113\n",
      "900 3.7659709453582764 0.7083333730697632\n",
      "Learning rate now set to: 0.006695637361694059\n",
      "1000 4.1152238845825195 0.5729166865348816\n",
      "Learning rate now set to: 0.0061242384242796615\n",
      "1100 3.6397271156311035 0.5833333730697632\n",
      "Learning rate now set to: 0.0055368839989663535\n",
      "1200 6.197566986083984 0.5625\n",
      "Learning rate now set to: 0.004941910122793787\n",
      "Epoch 1 Training, Loss 4.456444018200574, Acc 0.5601759811796515, kaggle Score 0.45223485150099224\n",
      "Epoch 1 Eval, Loss 3.0887052801194463, Acc 0.6533887538655548, Kaggle score 0.6039395874834381\n",
      "Saving the model (epoch 1)\n",
      "Making a backup (step 1)\n",
      "Start epoch 2\n",
      "0 3.452678918838501 0.6354166865348816\n",
      "Learning rate now set to: 0.004614485188038591\n",
      "100 4.883672714233398 0.5104166865348816\n",
      "Learning rate now set to: 0.004024389617417636\n",
      "200 3.6344847679138184 0.6666666865348816\n",
      "Learning rate now set to: 0.003448140696546331\n",
      "300 3.425515651702881 0.6145833730697632\n",
      "Learning rate now set to: 0.0028939168474155946\n",
      "400 3.3302040100097656 0.6145833730697632\n",
      "Learning rate now set to: 0.002369583900834736\n",
      "500 2.840660572052002 0.7083333730697632\n",
      "Learning rate now set to: 0.00188258346050237\n",
      "600 2.65653395652771 0.7291666865348816\n",
      "Learning rate now set to: 0.0014398272879273585\n",
      "700 2.180333137512207 0.7708333730697632\n",
      "Learning rate now set to: 0.0010475992071434677\n",
      "800 2.7265818119049072 0.6875\n",
      "Learning rate now set to: 0.0007114659214366437\n",
      "900 2.1075408458709717 0.7395833730697632\n",
      "Learning rate now set to: 0.0004361980078199357\n",
      "1000 3.511934280395508 0.6354166865348816\n",
      "Learning rate now set to: 0.00022570221054323212\n",
      "1100 2.9094173908233643 0.71875\n",
      "Learning rate now set to: 8.296599456323972e-05\n",
      "1200 1.8222180604934692 0.78125\n",
      "Learning rate now set to: 1.0015145899489066e-05\n",
      "Epoch 2 Training, Loss 2.7852163661523646, Acc 0.6950199404085775, kaggle Score 0.6386164737540995\n",
      "Epoch 2 Eval, Loss 1.748182964979843, Acc 0.7960290803935877, Kaggle score 0.7821326911554222\n",
      "Saving the model (epoch 2)\n",
      "Making a backup (step 2)\n"
     ]
    }
   ],
   "source": [
    "train(cfg, debug=True)"
   ]
  },
  {
   "cell_type": "code",
   "execution_count": null,
   "metadata": {},
   "outputs": [],
   "source": []
  }
 ],
 "metadata": {
  "kernelspec": {
   "display_name": "Conda: Bengaliai",
   "language": "python",
   "name": "bengaliai"
  },
  "language_info": {
   "codemirror_mode": {
    "name": "ipython",
    "version": 3
   },
   "file_extension": ".py",
   "mimetype": "text/x-python",
   "name": "python",
   "nbconvert_exporter": "python",
   "pygments_lexer": "ipython3",
   "version": "3.8.1"
  },
  "toc": {
   "base_numbering": 1,
   "nav_menu": {},
   "number_sections": true,
   "sideBar": true,
   "skip_h1_title": false,
   "title_cell": "Table of Contents",
   "title_sidebar": "Contents",
   "toc_cell": false,
   "toc_position": {},
   "toc_section_display": true,
   "toc_window_display": false
  }
 },
 "nbformat": 4,
 "nbformat_minor": 4
}
