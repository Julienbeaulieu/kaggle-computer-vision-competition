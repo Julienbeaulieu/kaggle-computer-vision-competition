{
 "cells": [
  {
   "cell_type": "code",
   "execution_count": 39,
   "metadata": {
    "ExecuteTime": {
     "end_time": "2020-02-27T14:48:18.090109Z",
     "start_time": "2020-02-27T14:48:17.979407Z"
    }
   },
   "outputs": [
    {
     "name": "stdout",
     "output_type": "stream",
     "text": [
      "__init__.py\n",
      "benchmark_dataloading.ipynb\n",
      "build models.ipynb\n",
      "class weights.ipynb\n",
      "cutmix_mixup.ipynb\n",
      "exploratory_data_analyses_train.ipynb\n",
      "find_lr.ipynb\n",
      "model_results.ipynb\n",
      "preprocessing.ipynb\n",
      "Train Val data separation.ipynb\n",
      "train-model.ipynb\n",
      "visual_check.ipynb\n",
      "visualize_average.ipynb\n",
      "visualize_classes.ipynb\n",
      "visualize_raw.ipynb\n"
     ]
    },
    {
     "name": "stderr",
     "output_type": "stream",
     "text": [
      "The system cannot find the path specified.\n"
     ]
    }
   ],
   "source": [
    "!ls"
   ]
  },
  {
   "cell_type": "code",
   "execution_count": 40,
   "metadata": {
    "ExecuteTime": {
     "end_time": "2020-02-27T14:48:20.846737Z",
     "start_time": "2020-02-27T14:48:20.839754Z"
    }
   },
   "outputs": [],
   "source": [
    "import sys\n",
    "import os\n",
    "import pickle\n",
    "sys.path.append('../..')\n",
    "\n",
    "from pathlib import Path"
   ]
  },
  {
   "cell_type": "code",
   "execution_count": 41,
   "metadata": {
    "ExecuteTime": {
     "end_time": "2020-02-27T14:48:39.285411Z",
     "start_time": "2020-02-27T14:48:39.281423Z"
    }
   },
   "outputs": [],
   "source": [
    "trace_path = 'C:/Users/nasty/data-science/kaggle/bengali-git/bengali.ai/models'"
   ]
  },
  {
   "cell_type": "code",
   "execution_count": 43,
   "metadata": {
    "ExecuteTime": {
     "end_time": "2020-02-27T14:48:46.201942Z",
     "start_time": "2020-02-27T14:48:46.191934Z"
    }
   },
   "outputs": [],
   "source": [
    "trace = pickle.load(open(trace_path + '/trace.p', 'rb'))"
   ]
  },
  {
   "cell_type": "code",
   "execution_count": 44,
   "metadata": {
    "ExecuteTime": {
     "end_time": "2020-02-27T14:48:47.498472Z",
     "start_time": "2020-02-27T14:48:47.488500Z"
    }
   },
   "outputs": [
    {
     "data": {
      "text/plain": [
       "[{'epoch': 0,\n",
       "  'train_err': 7.091986783947128,\n",
       "  'train_acc': 0.4521787971273005,\n",
       "  'train_kaggle_score': 0.3034988831695722,\n",
       "  'val_err': 10.344747060423444,\n",
       "  'val_acc': 0.28533871674755956,\n",
       "  'val_kaggle_score': 0.06141774891774891},\n",
       " {'epoch': 1,\n",
       "  'train_err': 6.586643168223332,\n",
       "  'train_acc': 0.5144754470997598,\n",
       "  'train_kaggle_score': 0.3953516338803756,\n",
       "  'val_err': 10.741363218635511,\n",
       "  'val_acc': 0.27802382779728835,\n",
       "  'val_kaggle_score': 0.06141774891774891},\n",
       " {'epoch': 2,\n",
       "  'train_err': 6.403915365616164,\n",
       "  'train_acc': 0.5492799810145006,\n",
       "  'train_kaggle_score': 0.4407841578060844,\n",
       "  'val_err': 9.593929300262669,\n",
       "  'val_acc': 0.27619095862054144,\n",
       "  'val_kaggle_score': 0.06141774891774891},\n",
       " {'epoch': 3,\n",
       "  'train_err': 6.114100018108034,\n",
       "  'train_acc': 0.5851282552181487,\n",
       "  'train_kaggle_score': 0.4881356175750351,\n",
       "  'val_err': 8.647288518346798,\n",
       "  'val_acc': 0.28533871674755956,\n",
       "  'val_kaggle_score': 0.06141774891774891},\n",
       " {'epoch': 4,\n",
       "  'train_err': 5.826048568947857,\n",
       "  'train_acc': 0.6145667519168075,\n",
       "  'train_kaggle_score': 0.5333873731958343,\n",
       "  'val_err': 11.937947851077766,\n",
       "  'val_acc': 0.2761411974859086,\n",
       "  'val_kaggle_score': 0.06141774891774891},\n",
       " {'epoch': 5,\n",
       "  'train_err': 5.699847491115213,\n",
       "  'train_acc': 0.6350846807557748,\n",
       "  'train_kaggle_score': 0.5641915402772251,\n",
       "  'val_err': 12.880271740779754,\n",
       "  'val_acc': 0.2761411974859086,\n",
       "  'val_kaggle_score': 0.06141774891774891},\n",
       " {'epoch': 6,\n",
       "  'train_err': 5.412613006250792,\n",
       "  'train_acc': 0.6543326886526617,\n",
       "  'train_kaggle_score': 0.5940822781580882,\n",
       "  'val_err': 10.84835654003605,\n",
       "  'val_acc': 0.27619095862054144,\n",
       "  'val_kaggle_score': 0.06141774891774891},\n",
       " {'epoch': 7,\n",
       "  'train_err': 5.153357023024464,\n",
       "  'train_acc': 0.6747115896280068,\n",
       "  'train_kaggle_score': 0.622062260714715,\n",
       "  'val_err': 11.761170418399155,\n",
       "  'val_acc': 0.2761992521607762,\n",
       "  'val_kaggle_score': 0.06144245908516271},\n",
       " {'epoch': 8,\n",
       "  'train_err': 5.097773148766552,\n",
       "  'train_acc': 0.6790401093157165,\n",
       "  'train_kaggle_score': 0.6299830574213325,\n",
       "  'val_err': 4.942068345797289,\n",
       "  'val_acc': 0.6004097204963872,\n",
       "  'val_kaggle_score': 0.4618944154705318},\n",
       " {'epoch': 9,\n",
       "  'train_err': 4.937137597514338,\n",
       "  'train_acc': 0.6856449398980198,\n",
       "  'train_kaggle_score': 0.6400704042947295,\n",
       "  'val_err': 1.9801491681177905,\n",
       "  'val_acc': 0.8641852642510347,\n",
       "  'val_kaggle_score': 0.8152999782563526}]"
      ]
     },
     "execution_count": 44,
     "metadata": {},
     "output_type": "execute_result"
    }
   ],
   "source": [
    "trace"
   ]
  },
  {
   "cell_type": "code",
   "execution_count": 68,
   "metadata": {
    "ExecuteTime": {
     "end_time": "2020-02-27T16:03:10.462107Z",
     "start_time": "2020-02-27T16:03:10.457088Z"
    }
   },
   "outputs": [
    {
     "data": {
      "text/plain": [
       "False"
      ]
     },
     "execution_count": 68,
     "metadata": {},
     "output_type": "execute_result"
    }
   ],
   "source": [
    "import random\n",
    "random.random() <= 0.0"
   ]
  },
  {
   "cell_type": "code",
   "execution_count": null,
   "metadata": {},
   "outputs": [],
   "source": []
  }
 ],
 "metadata": {
  "kernelspec": {
   "display_name": "Conda: Bengaliai",
   "language": "python",
   "name": "bengaliai"
  },
  "language_info": {
   "codemirror_mode": {
    "name": "ipython",
    "version": 3
   },
   "file_extension": ".py",
   "mimetype": "text/x-python",
   "name": "python",
   "nbconvert_exporter": "python",
   "pygments_lexer": "ipython3",
   "version": "3.8.1"
  },
  "toc": {
   "base_numbering": 1,
   "nav_menu": {
    "height": "138.991px",
    "width": "233.352px"
   },
   "number_sections": true,
   "sideBar": true,
   "skip_h1_title": false,
   "title_cell": "Table of Contents",
   "title_sidebar": "Contents",
   "toc_cell": false,
   "toc_position": {},
   "toc_section_display": true,
   "toc_window_display": false
  }
 },
 "nbformat": 4,
 "nbformat_minor": 4
}
