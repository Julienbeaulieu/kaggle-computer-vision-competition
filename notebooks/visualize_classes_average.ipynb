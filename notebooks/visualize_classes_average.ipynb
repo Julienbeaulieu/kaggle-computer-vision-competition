{
 "cells": [
  {
   "cell_type": "code",
   "execution_count": 1,
   "metadata": {
    "pycharm": {
     "is_executing": false
    }
   },
   "outputs": [
    {
     "data": {
      "text/html": [
       "<style>.container { width:100% !important; }</style>"
      ],
      "text/plain": [
       "<IPython.core.display.HTML object>"
      ]
     },
     "metadata": {},
     "output_type": "display_data"
    }
   ],
   "source": [
    "import pickle\n",
    "import os\n",
    "from pathlib import Path\n",
    "from PIL import Image\n",
    "\n",
    "# Notebook widget for interactive exploration\n",
    "import ipywidgets as widgets\n",
    "from ipywidgets import interact, interact_manual\n",
    "import matplotlib.pyplot as plt\n",
    "from matplotlib.pyplot import imshow\n",
    "import cv2 as cv\n",
    "from IPython.core.display import display, HTML\n",
    "display(HTML(\"<style>.container { width:100% !important; }</style>\"))\n",
    "\n",
    "import numpy as np\n",
    "import pandas as pd\n",
    "from dotenv import load_dotenv, find_dotenv\n",
    "from src.data.load_datasets import load_label_csv, load_data_train, load_data_val\n",
    "from src.data.load_datasets import load_grapheme_classes\n",
    "from src.data.load_datasets import get_image_data\n",
    "from src.data.grapheme_composition import encode_grapheme\n",
    "from src.data.grapheme_composition import get_components\n",
    "from src.data.data_labels import get_labels\n",
    "from src.data.data_labels import filter_label_df_index"
   ]
  },
  {
   "cell_type": "code",
   "execution_count": 2,
   "metadata": {},
   "outputs": [],
   "source": [
    "# Load the .ENV path. \n",
    "load_dotenv(find_dotenv())\n",
    "\n",
    "# Get Env variable on the pathing. \n",
    "\n",
    "PATH_DATA_INTERIM=os.getenv(\"PATH_DATA_INTERIM\")\n",
    "PATH_DATA_RAW=os.getenv(\"PATH_DATA_RAW\")"
   ]
  },
  {
   "cell_type": "code",
   "execution_count": 3,
   "metadata": {},
   "outputs": [],
   "source": [
    "# Load the labeling data for decoding purpose\n",
    "grapheme_train = load_label_csv()\n",
    "# Load training data\n",
    "data_train = load_data_train()\n",
    "# Load validation data\n",
    "data_val = load_data_val()"
   ]
  },
  {
   "cell_type": "code",
   "execution_count": 4,
   "metadata": {},
   "outputs": [],
   "source": [
    "classes_train = list(list(zip(*data_train))[0])"
   ]
  },
  {
   "cell_type": "code",
   "execution_count": 5,
   "metadata": {},
   "outputs": [
    {
     "data": {
      "text/html": [
       "<div>\n",
       "<style scoped>\n",
       "    .dataframe tbody tr th:only-of-type {\n",
       "        vertical-align: middle;\n",
       "    }\n",
       "\n",
       "    .dataframe tbody tr th {\n",
       "        vertical-align: top;\n",
       "    }\n",
       "\n",
       "    .dataframe thead th {\n",
       "        text-align: right;\n",
       "    }\n",
       "</style>\n",
       "<table border=\"1\" class=\"dataframe\">\n",
       "  <thead>\n",
       "    <tr style=\"text-align: right;\">\n",
       "      <th></th>\n",
       "      <th>component_type</th>\n",
       "      <th>label</th>\n",
       "      <th>component</th>\n",
       "    </tr>\n",
       "  </thead>\n",
       "  <tbody>\n",
       "    <tr>\n",
       "      <th>0</th>\n",
       "      <td>grapheme_root</td>\n",
       "      <td>0</td>\n",
       "      <td>ং</td>\n",
       "    </tr>\n",
       "    <tr>\n",
       "      <th>1</th>\n",
       "      <td>grapheme_root</td>\n",
       "      <td>1</td>\n",
       "      <td>ঃ</td>\n",
       "    </tr>\n",
       "    <tr>\n",
       "      <th>2</th>\n",
       "      <td>grapheme_root</td>\n",
       "      <td>2</td>\n",
       "      <td>অ</td>\n",
       "    </tr>\n",
       "    <tr>\n",
       "      <th>3</th>\n",
       "      <td>grapheme_root</td>\n",
       "      <td>3</td>\n",
       "      <td>আ</td>\n",
       "    </tr>\n",
       "    <tr>\n",
       "      <th>4</th>\n",
       "      <td>grapheme_root</td>\n",
       "      <td>4</td>\n",
       "      <td>ই</td>\n",
       "    </tr>\n",
       "    <tr>\n",
       "      <th>...</th>\n",
       "      <td>...</td>\n",
       "      <td>...</td>\n",
       "      <td>...</td>\n",
       "    </tr>\n",
       "    <tr>\n",
       "      <th>181</th>\n",
       "      <td>consonant_diacritic</td>\n",
       "      <td>2</td>\n",
       "      <td>র্</td>\n",
       "    </tr>\n",
       "    <tr>\n",
       "      <th>182</th>\n",
       "      <td>consonant_diacritic</td>\n",
       "      <td>3</td>\n",
       "      <td>র্য</td>\n",
       "    </tr>\n",
       "    <tr>\n",
       "      <th>183</th>\n",
       "      <td>consonant_diacritic</td>\n",
       "      <td>4</td>\n",
       "      <td>্য</td>\n",
       "    </tr>\n",
       "    <tr>\n",
       "      <th>184</th>\n",
       "      <td>consonant_diacritic</td>\n",
       "      <td>5</td>\n",
       "      <td>্র</td>\n",
       "    </tr>\n",
       "    <tr>\n",
       "      <th>185</th>\n",
       "      <td>consonant_diacritic</td>\n",
       "      <td>6</td>\n",
       "      <td>্র্য</td>\n",
       "    </tr>\n",
       "  </tbody>\n",
       "</table>\n",
       "<p>186 rows × 3 columns</p>\n",
       "</div>"
      ],
      "text/plain": [
       "          component_type  label component\n",
       "0          grapheme_root      0         ং\n",
       "1          grapheme_root      1         ঃ\n",
       "2          grapheme_root      2         অ\n",
       "3          grapheme_root      3         আ\n",
       "4          grapheme_root      4         ই\n",
       "..                   ...    ...       ...\n",
       "181  consonant_diacritic      2        র্\n",
       "182  consonant_diacritic      3       র্য\n",
       "183  consonant_diacritic      4        ্য\n",
       "184  consonant_diacritic      5        ্র\n",
       "185  consonant_diacritic      6      ্র্য\n",
       "\n",
       "[186 rows x 3 columns]"
      ]
     },
     "execution_count": 5,
     "metadata": {},
     "output_type": "execute_result"
    }
   ],
   "source": [
    "# Load the class data for decoding purpose\n",
    "grapheme_classes = load_grapheme_classes()\n",
    "grapheme_classes"
   ]
  },
  {
   "cell_type": "code",
   "execution_count": 6,
   "metadata": {},
   "outputs": [
    {
     "data": {
      "text/plain": [
       "array([133,   9,   0], dtype=int64)"
      ]
     },
     "execution_count": 6,
     "metadata": {},
     "output_type": "execute_result"
    }
   ],
   "source": [
    "list_labels = data_train[2][1]\n",
    "list_labels"
   ]
  },
  {
   "cell_type": "code",
   "execution_count": 7,
   "metadata": {},
   "outputs": [
    {
     "data": {
      "text/plain": [
       "['শ', 'ো', '0']"
      ]
     },
     "execution_count": 7,
     "metadata": {},
     "output_type": "execute_result"
    }
   ],
   "source": [
    "get_components(list_labels)"
   ]
  },
  {
   "cell_type": "code",
   "execution_count": 8,
   "metadata": {},
   "outputs": [],
   "source": [
    "df_label_train = get_labels(data_train)\n",
    "df_label_val = get_labels(data_val)"
   ]
  },
  {
   "cell_type": "code",
   "execution_count": 9,
   "metadata": {},
   "outputs": [
    {
     "data": {
      "text/html": [
       "<div>\n",
       "<style scoped>\n",
       "    .dataframe tbody tr th:only-of-type {\n",
       "        vertical-align: middle;\n",
       "    }\n",
       "\n",
       "    .dataframe tbody tr th {\n",
       "        vertical-align: top;\n",
       "    }\n",
       "\n",
       "    .dataframe thead th {\n",
       "        text-align: right;\n",
       "    }\n",
       "</style>\n",
       "<table border=\"1\" class=\"dataframe\">\n",
       "  <thead>\n",
       "    <tr style=\"text-align: right;\">\n",
       "      <th></th>\n",
       "      <th>grapheme_root</th>\n",
       "      <th>vowel_diacritic</th>\n",
       "      <th>consonant_diacritic</th>\n",
       "    </tr>\n",
       "  </thead>\n",
       "  <tbody>\n",
       "    <tr>\n",
       "      <th>0</th>\n",
       "      <td>139</td>\n",
       "      <td>1</td>\n",
       "      <td>0</td>\n",
       "    </tr>\n",
       "    <tr>\n",
       "      <th>1</th>\n",
       "      <td>92</td>\n",
       "      <td>7</td>\n",
       "      <td>0</td>\n",
       "    </tr>\n",
       "    <tr>\n",
       "      <th>2</th>\n",
       "      <td>133</td>\n",
       "      <td>9</td>\n",
       "      <td>0</td>\n",
       "    </tr>\n",
       "    <tr>\n",
       "      <th>3</th>\n",
       "      <td>43</td>\n",
       "      <td>1</td>\n",
       "      <td>4</td>\n",
       "    </tr>\n",
       "    <tr>\n",
       "      <th>4</th>\n",
       "      <td>32</td>\n",
       "      <td>7</td>\n",
       "      <td>0</td>\n",
       "    </tr>\n",
       "    <tr>\n",
       "      <th>...</th>\n",
       "      <td>...</td>\n",
       "      <td>...</td>\n",
       "      <td>...</td>\n",
       "    </tr>\n",
       "    <tr>\n",
       "      <th>160667</th>\n",
       "      <td>95</td>\n",
       "      <td>0</td>\n",
       "      <td>0</td>\n",
       "    </tr>\n",
       "    <tr>\n",
       "      <th>160668</th>\n",
       "      <td>64</td>\n",
       "      <td>0</td>\n",
       "      <td>0</td>\n",
       "    </tr>\n",
       "    <tr>\n",
       "      <th>160669</th>\n",
       "      <td>113</td>\n",
       "      <td>2</td>\n",
       "      <td>2</td>\n",
       "    </tr>\n",
       "    <tr>\n",
       "      <th>160670</th>\n",
       "      <td>160</td>\n",
       "      <td>0</td>\n",
       "      <td>0</td>\n",
       "    </tr>\n",
       "    <tr>\n",
       "      <th>160671</th>\n",
       "      <td>133</td>\n",
       "      <td>1</td>\n",
       "      <td>0</td>\n",
       "    </tr>\n",
       "  </tbody>\n",
       "</table>\n",
       "<p>160672 rows × 3 columns</p>\n",
       "</div>"
      ],
      "text/plain": [
       "        grapheme_root  vowel_diacritic  consonant_diacritic\n",
       "0                 139                1                    0\n",
       "1                  92                7                    0\n",
       "2                 133                9                    0\n",
       "3                  43                1                    4\n",
       "4                  32                7                    0\n",
       "...               ...              ...                  ...\n",
       "160667             95                0                    0\n",
       "160668             64                0                    0\n",
       "160669            113                2                    2\n",
       "160670            160                0                    0\n",
       "160671            133                1                    0\n",
       "\n",
       "[160672 rows x 3 columns]"
      ]
     },
     "execution_count": 9,
     "metadata": {},
     "output_type": "execute_result"
    }
   ],
   "source": [
    "df_label_train"
   ]
  },
  {
   "cell_type": "code",
   "execution_count": 10,
   "metadata": {},
   "outputs": [
    {
     "data": {
      "text/html": [
       "<div>\n",
       "<style scoped>\n",
       "    .dataframe tbody tr th:only-of-type {\n",
       "        vertical-align: middle;\n",
       "    }\n",
       "\n",
       "    .dataframe tbody tr th {\n",
       "        vertical-align: top;\n",
       "    }\n",
       "\n",
       "    .dataframe thead th {\n",
       "        text-align: right;\n",
       "    }\n",
       "</style>\n",
       "<table border=\"1\" class=\"dataframe\">\n",
       "  <thead>\n",
       "    <tr style=\"text-align: right;\">\n",
       "      <th></th>\n",
       "      <th>grapheme_root</th>\n",
       "      <th>vowel_diacritic</th>\n",
       "      <th>consonant_diacritic</th>\n",
       "    </tr>\n",
       "  </thead>\n",
       "  <tbody>\n",
       "    <tr>\n",
       "      <th>0</th>\n",
       "      <td>80</td>\n",
       "      <td>7</td>\n",
       "      <td>2</td>\n",
       "    </tr>\n",
       "    <tr>\n",
       "      <th>1</th>\n",
       "      <td>96</td>\n",
       "      <td>7</td>\n",
       "      <td>0</td>\n",
       "    </tr>\n",
       "    <tr>\n",
       "      <th>2</th>\n",
       "      <td>96</td>\n",
       "      <td>1</td>\n",
       "      <td>0</td>\n",
       "    </tr>\n",
       "    <tr>\n",
       "      <th>3</th>\n",
       "      <td>138</td>\n",
       "      <td>9</td>\n",
       "      <td>0</td>\n",
       "    </tr>\n",
       "    <tr>\n",
       "      <th>4</th>\n",
       "      <td>89</td>\n",
       "      <td>1</td>\n",
       "      <td>5</td>\n",
       "    </tr>\n",
       "    <tr>\n",
       "      <th>...</th>\n",
       "      <td>...</td>\n",
       "      <td>...</td>\n",
       "      <td>...</td>\n",
       "    </tr>\n",
       "    <tr>\n",
       "      <th>40163</th>\n",
       "      <td>96</td>\n",
       "      <td>7</td>\n",
       "      <td>0</td>\n",
       "    </tr>\n",
       "    <tr>\n",
       "      <th>40164</th>\n",
       "      <td>124</td>\n",
       "      <td>1</td>\n",
       "      <td>4</td>\n",
       "    </tr>\n",
       "    <tr>\n",
       "      <th>40165</th>\n",
       "      <td>72</td>\n",
       "      <td>1</td>\n",
       "      <td>1</td>\n",
       "    </tr>\n",
       "    <tr>\n",
       "      <th>40166</th>\n",
       "      <td>147</td>\n",
       "      <td>3</td>\n",
       "      <td>0</td>\n",
       "    </tr>\n",
       "    <tr>\n",
       "      <th>40167</th>\n",
       "      <td>96</td>\n",
       "      <td>3</td>\n",
       "      <td>5</td>\n",
       "    </tr>\n",
       "  </tbody>\n",
       "</table>\n",
       "<p>40168 rows × 3 columns</p>\n",
       "</div>"
      ],
      "text/plain": [
       "       grapheme_root  vowel_diacritic  consonant_diacritic\n",
       "0                 80                7                    2\n",
       "1                 96                7                    0\n",
       "2                 96                1                    0\n",
       "3                138                9                    0\n",
       "4                 89                1                    5\n",
       "...              ...              ...                  ...\n",
       "40163             96                7                    0\n",
       "40164            124                1                    4\n",
       "40165             72                1                    1\n",
       "40166            147                3                    0\n",
       "40167             96                3                    5\n",
       "\n",
       "[40168 rows x 3 columns]"
      ]
     },
     "execution_count": 10,
     "metadata": {},
     "output_type": "execute_result"
    }
   ],
   "source": [
    "df_label_val"
   ]
  },
  {
   "cell_type": "code",
   "execution_count": 12,
   "metadata": {},
   "outputs": [
    {
     "data": {
      "application/vnd.jupyter.widget-view+json": {
       "model_id": "8681bee90a2e4907b7d903da0bcecd55",
       "version_major": 2,
       "version_minor": 0
      },
      "text/plain": [
       "interactive(children=(IntSlider(value=83, description='index_root', max=167), IntSlider(value=5, description='…"
      ]
     },
     "metadata": {},
     "output_type": "display_data"
    }
   ],
   "source": [
    "total_root = grapheme_classes[grapheme_classes.component_type.eq(\"grapheme_root\")]\n",
    "total_vowel = grapheme_classes[grapheme_classes.component_type.eq(\"vowel_diacritic\")]\n",
    "total_consonant = grapheme_classes[grapheme_classes.component_type.eq(\"consonant_diacritic\")]\n",
    "\n",
    "len(total_root)\n",
    "total_vowel\n",
    "total_consonant\n",
    "\n",
    "@interact\n",
    "def show_count(index_root=(0, len(total_root)-1, 1), \n",
    "               index_vowel=(0, len(total_vowel)-1, 1), \n",
    "               index_consonant=(0, len(total_consonant)-1, 1)):            \n",
    "    \n",
    "    subset_train = filter_label_df_index(df_label_train, index_root, index_vowel,index_consonant)    \n",
    "    subset_val = filter_label_df_index(df_label_val, index_root, index_vowel,index_consonant)\n",
    "    \n",
    "    encode_grapheme(index_root, index_vowel,index_consonant)\n",
    "    \n",
    "    print(f\"There are a total of {len(subset_train)} cases in the training AND {len(subset_val)} cases in validation data set.\")\n",
    "    print(f\"Proportion of {len(subset_train)/len(df_label_train)*100}% in the training AND {len(subset_val)/len(df_label_val)*100}% in validation data set.\")\n",
    "    #return (subset_train, subset_val)\n",
    "    \n",
    "    # Exit early if no images. \n",
    "    if len(subset_train)==0 or len(subset_val)==0:\n",
    "        return\n",
    "    \n",
    "    @interact\n",
    "    def show_average_image(normalize=True, threshold=(0,255,0.5)):    \n",
    "\n",
    "        # Compute its mean \n",
    "        images_train = get_image_data(data_train)        \n",
    "        images_train_per_class = [images_train[i] for i in subset_train]        \n",
    "        image_train_mean = np.mean(images_train_per_class, axis=0)\n",
    "        print(len(subset_train))\n",
    "        \n",
    "        # Compute its mean \n",
    "        images_val = get_image_data(data_val)        \n",
    "        print(len(images_val))\n",
    "        images_val_per_class = [images_val[i] for i in subset_val]\n",
    "        image_val_mean = np.mean(images_val, axis=0)\n",
    "        \n",
    "        if (normalize):        \n",
    "            image_train_mean_norm = np.zeros((137, 236))\n",
    "            image_train_mean_norm = cv.normalize(image_train_mean,  image_train_mean_norm, 0, 255, cv.NORM_MINMAX)     \n",
    "            \n",
    "            image_val_mean_norm = np.zeros((137, 236))\n",
    "            image_val_mean_norm = cv.normalize(image_val_mean,  image_val_mean_norm, 0, 255, cv.NORM_MINMAX)    \n",
    "            \n",
    "            image_train_mean_binarized = 1.0 * (image_train_mean_norm < threshold)\n",
    "            image_val_mean_binarized = 1.0 * (image_val_mean_norm < threshold)\n",
    "        else:    \n",
    "        \n",
    "            image_train_mean_binarized = 1.0 * (image_train_mean < threshold)\n",
    "            image_val_mean_binarized = 1.0 * (image_val_mean < threshold)\n",
    "        \n",
    "        #get_components(list_labels)\n",
    "\n",
    "        # Compose into the composite array laytout\n",
    "        f, axarr = plt.subplots(1,2)\n",
    "        axarr[0].imshow(image_train_mean_binarized, cmap='gray')\n",
    "        axarr[0].set_title(\"Training Set\")\n",
    "        axarr[1].imshow(image_val_mean_binarized, cmap='gray')    \n",
    "        axarr[1].set_title(\"Validation Set\")\n",
    "        f.set_size_inches(18.5, 10.5)\n",
    "        #f.suptitle(\"Raw Grapheme Images\", fontsize=40)"
   ]
  },
  {
   "cell_type": "code",
   "execution_count": null,
   "metadata": {},
   "outputs": [],
   "source": []
  }
 ],
 "metadata": {
  "kernelspec": {
   "display_name": "Python 3",
   "language": "python",
   "name": "python3"
  },
  "language_info": {
   "codemirror_mode": {
    "name": "ipython",
    "version": 3
   },
   "file_extension": ".py",
   "mimetype": "text/x-python",
   "name": "python",
   "nbconvert_exporter": "python",
   "pygments_lexer": "ipython3",
   "version": "3.7.6"
  },
  "pycharm": {
   "stem_cell": {
    "cell_type": "raw",
    "metadata": {
     "collapsed": false
    },
    "source": []
   }
  }
 },
 "nbformat": 4,
 "nbformat_minor": 2
}
