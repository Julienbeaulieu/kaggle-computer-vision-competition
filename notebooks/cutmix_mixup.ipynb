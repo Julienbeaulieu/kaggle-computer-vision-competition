{
 "cells": [
  {
   "cell_type": "code",
   "execution_count": 1,
   "metadata": {
    "ExecuteTime": {
     "end_time": "2020-02-28T22:05:52.151104Z",
     "start_time": "2020-02-28T22:05:52.120213Z"
    }
   },
   "outputs": [],
   "source": [
    "%load_ext autoreload\n",
    "%autoreload 2"
   ]
  },
  {
   "cell_type": "code",
   "execution_count": 2,
   "metadata": {
    "ExecuteTime": {
     "end_time": "2020-02-28T22:05:53.418552Z",
     "start_time": "2020-02-28T22:05:52.153100Z"
    }
   },
   "outputs": [],
   "source": [
    "import numpy as np\n",
    "import os\n",
    "import sys \n",
    "import pickle\n",
    "\n",
    "sys.path.append('../')\n",
    "import torch\n",
    "from torch.utils.data import Dataset, DataLoader\n",
    "from src.config.config import cfg\n",
    "from src.data.bengali_data import BengaliDataBatchCollator, BengaliDataset"
   ]
  },
  {
   "cell_type": "code",
   "execution_count": 3,
   "metadata": {
    "ExecuteTime": {
     "end_time": "2020-02-28T22:05:53.490360Z",
     "start_time": "2020-02-28T22:05:53.419550Z"
    }
   },
   "outputs": [],
   "source": [
    "def rand_bbox(size, lam):\n",
    "    W = size[2]\n",
    "    H = size[3]\n",
    "    cut_rat = np.sqrt(1. - lam)\n",
    "    cut_w = np.int(W * cut_rat)\n",
    "    cut_h = np.int(H * cut_rat)\n",
    "\n",
    "    # uniform\n",
    "    cx = np.random.randint(W)\n",
    "    cy = np.random.randint(H)\n",
    "\n",
    "    bbx1 = np.clip(cx - cut_w // 2, 0, W)\n",
    "    bby1 = np.clip(cy - cut_h // 2, 0, H)\n",
    "    bbx2 = np.clip(cx + cut_w // 2, 0, W)\n",
    "    bby2 = np.clip(cy + cut_h // 2, 0, H)\n",
    "\n",
    "    return bbx1, bby1, bbx2, bby2\n",
    "\n",
    "def cutmix(data, targets1, targets2, targets3, alpha):\n",
    "    indices = torch.randperm(data.size(0))\n",
    "    shuffled_data = data[indices]\n",
    "    shuffled_targets1 = targets1[indices]\n",
    "    shuffled_targets2 = targets2[indices]\n",
    "    shuffled_targets3 = targets3[indices]\n",
    "\n",
    "    lam = np.random.beta(alpha, alpha)\n",
    "    bbx1, bby1, bbx2, bby2 = rand_bbox(data.size(), lam)\n",
    "    data[:, :, bbx1:bbx2, bby1:bby2] = data[indices, :, bbx1:bbx2, bby1:bby2]\n",
    "    # adjust lambda to exactly match pixel ratio\n",
    "    lam = 1 - ((bbx2 - bbx1) * (bby2 - bby1) / (data.size()[-1] * data.size()[-2]))\n",
    "\n",
    "    targets = [targets1, shuffled_targets1, targets2, shuffled_targets2, targets3, shuffled_targets3, lam]\n",
    "    return data, targets"
   ]
  },
  {
   "cell_type": "code",
   "execution_count": 4,
   "metadata": {
    "ExecuteTime": {
     "end_time": "2020-02-28T22:05:53.552195Z",
     "start_time": "2020-02-28T22:05:53.491358Z"
    }
   },
   "outputs": [],
   "source": [
    "train_path = cfg.DATASET.TRAIN_DATA_PATH\n",
    "val_path = cfg.DATASET.VAL_DATA_PATH"
   ]
  },
  {
   "cell_type": "code",
   "execution_count": 5,
   "metadata": {
    "ExecuteTime": {
     "end_time": "2020-02-28T22:06:01.667518Z",
     "start_time": "2020-02-28T22:05:53.553193Z"
    }
   },
   "outputs": [],
   "source": [
    "# DATA LOADER\n",
    "val_data = pickle.load(open(train_path, 'rb'))\n",
    "val_dataset = BengaliDataset(val_data, cfg.DATASET, True)"
   ]
  },
  {
   "cell_type": "code",
   "execution_count": 6,
   "metadata": {
    "ExecuteTime": {
     "end_time": "2020-02-28T22:06:01.757245Z",
     "start_time": "2020-02-28T22:06:01.668481Z"
    }
   },
   "outputs": [],
   "source": [
    "collator = BengaliDataBatchCollator()\n",
    "val_loader = DataLoader(val_dataset, batch_size=16, shuffle=True, collate_fn=collator, num_workers=1)"
   ]
  },
  {
   "cell_type": "code",
   "execution_count": 7,
   "metadata": {
    "ExecuteTime": {
     "end_time": "2020-02-28T22:07:08.444652Z",
     "start_time": "2020-02-28T22:06:01.759239Z"
    }
   },
   "outputs": [],
   "source": [
    "itr = iter(val_loader)"
   ]
  },
  {
   "cell_type": "code",
   "execution_count": 79,
   "metadata": {
    "ExecuteTime": {
     "end_time": "2020-02-29T00:10:14.337504Z",
     "start_time": "2020-02-29T00:10:14.263703Z"
    }
   },
   "outputs": [
    {
     "data": {
      "text/plain": [
       "torch.Size([16, 3, 128, 128])"
      ]
     },
     "execution_count": 79,
     "metadata": {},
     "output_type": "execute_result"
    }
   ],
   "source": [
    "mean = [0.4, 0.2, 0.3]\n",
    "a = torch.randn((16,3,128,128))\n",
    "a.shape"
   ]
  },
  {
   "cell_type": "code",
   "execution_count": 83,
   "metadata": {
    "ExecuteTime": {
     "end_time": "2020-02-29T00:10:55.294055Z",
     "start_time": "2020-02-29T00:10:55.228231Z"
    }
   },
   "outputs": [
    {
     "data": {
      "text/plain": [
       "tensor([[[ 0.1126, -0.5542, -0.4357,  ..., -0.2591, -1.4548,  1.4228],\n",
       "         [ 0.7388, -0.3138, -0.0746,  ...,  1.0959, -0.8672, -0.6673],\n",
       "         [ 0.2126,  0.3141, -0.6449,  ..., -0.0196, -0.3018, -0.9997],\n",
       "         ...,\n",
       "         [-0.4735, -0.3893,  0.4895,  ..., -0.1700, -0.0162,  0.4184],\n",
       "         [-0.6458,  0.3566,  0.6127,  ..., -0.5565, -0.1463, -0.3117],\n",
       "         [-0.2381, -0.6224,  0.0523,  ..., -0.2834,  0.8213, -0.7559]]])"
      ]
     },
     "execution_count": 83,
     "metadata": {},
     "output_type": "execute_result"
    }
   ],
   "source": [
    "a.mean(1)[:,None,:,:][1]"
   ]
  },
  {
   "cell_type": "code",
   "execution_count": 11,
   "metadata": {},
   "outputs": [
    {
     "name": "stdout",
     "output_type": "stream",
     "text": [
      "17.256835222244263\n"
     ]
    }
   ],
   "source": [
    "import time\n",
    "s = time.time()\n",
    "for i in range(500):\n",
    "    _ = next(itr)\n",
    "t = time.time()\n",
    "print(t-s)"
   ]
  },
  {
   "cell_type": "code",
   "execution_count": 44,
   "metadata": {
    "ExecuteTime": {
     "end_time": "2020-02-28T23:38:52.655593Z",
     "start_time": "2020-02-28T23:38:52.270622Z"
    }
   },
   "outputs": [
    {
     "name": "stderr",
     "output_type": "stream",
     "text": [
      "Clipping input data to the valid range for imshow with RGB data ([0..1] for floats or [0..255] for integers).\n"
     ]
    },
    {
     "name": "stdout",
     "output_type": "stream",
     "text": [
      "torch.Size([16, 3, 128, 128])\n",
      "torch.Size([3, 1, 1])\n",
      "torch.Size([3, 128, 128])\n",
      "tensor([[[1.3114, 1.3234, 1.2898],\n",
      "         [1.3114, 1.3234, 1.2898],\n",
      "         [1.2782, 1.2915, 1.2615],\n",
      "         ...,\n",
      "         [1.2782, 1.2915, 1.2615],\n",
      "         [1.3197, 1.3314, 1.2968],\n",
      "         [1.2865, 1.2995, 1.2685]],\n",
      "\n",
      "        [[1.3114, 1.3234, 1.2898],\n",
      "         [1.3114, 1.3234, 1.2898],\n",
      "         [1.2533, 1.2676, 1.2402],\n",
      "         ...,\n",
      "         [1.2865, 1.2995, 1.2685],\n",
      "         [1.3114, 1.3234, 1.2898],\n",
      "         [1.3031, 1.3155, 1.2827]],\n",
      "\n",
      "        [[1.3114, 1.3234, 1.2898],\n",
      "         [1.3114, 1.3234, 1.2898],\n",
      "         [1.2865, 1.2995, 1.2685],\n",
      "         ...,\n",
      "         [1.2865, 1.2995, 1.2685],\n",
      "         [1.3114, 1.3234, 1.2898],\n",
      "         [1.3031, 1.3155, 1.2827]],\n",
      "\n",
      "        ...,\n",
      "\n",
      "        [[1.3114, 1.3234, 1.2898],\n",
      "         [1.3197, 1.3314, 1.2968],\n",
      "         [1.3197, 1.3314, 1.2968],\n",
      "         ...,\n",
      "         [1.2948, 1.3075, 1.2756],\n",
      "         [1.3114, 1.3234, 1.2898],\n",
      "         [1.3197, 1.3314, 1.2968]],\n",
      "\n",
      "        [[1.2616, 1.2755, 1.2473],\n",
      "         [1.3031, 1.3155, 1.2827],\n",
      "         [1.3197, 1.3314, 1.2968],\n",
      "         ...,\n",
      "         [1.3114, 1.3234, 1.2898],\n",
      "         [1.2616, 1.2755, 1.2473],\n",
      "         [1.3197, 1.3314, 1.2968]],\n",
      "\n",
      "        [[1.3031, 1.3155, 1.2827],\n",
      "         [1.3114, 1.3234, 1.2898],\n",
      "         [1.3197, 1.3314, 1.2968],\n",
      "         ...,\n",
      "         [1.3031, 1.3155, 1.2827],\n",
      "         [1.3197, 1.3314, 1.2968],\n",
      "         [1.3114, 1.3234, 1.2898]]], dtype=torch.float64)\n"
     ]
    },
    {
     "data": {
      "image/png": "[encoded data removed]",
      "text/plain": [
       "<Figure size 432x288 with 1 Axes>"
      ]
     },
     "metadata": {
      "needs_background": "light"
     },
     "output_type": "display_data"
    }
   ],
   "source": [
    "from PIL import Image\n",
    "import matplotlib.pyplot as plt\n",
    "for i, (xb, yb) in enumerate(itr):\n",
    "    if i == 5:\n",
    "        print(xb.shape)\n",
    "        mean=[0.485, 0.456, 0.406]\n",
    "        std = [0.229, 0.224, 0.225]\n",
    "        std = torch.FloatTensor(std).view(3,1,1)\n",
    "        mt = torch.FloatTensor(mean).view(3,1,1)\n",
    "        img = xb[0]\n",
    "        print(mt.shape)\n",
    "        print(img.shape)\n",
    "        img *= mt\n",
    "        img += std\n",
    "        img = img.permute(2, 1, 0)\n",
    "        print(img)\n",
    "        plt.imshow(img)\n",
    "#         print(img.shape)\n",
    "#         print(inputs[0].shape)\n",
    "        #im = Image.fromarray(img.cpu().detach().numpy())\n",
    "#         #im = im.convert('RGB')\n",
    "#         im.save(\"non_mixup_image.PNG\")\n",
    "        break"
   ]
  },
  {
   "cell_type": "code",
   "execution_count": 29,
   "metadata": {
    "ExecuteTime": {
     "end_time": "2020-02-28T22:22:59.235762Z",
     "start_time": "2020-02-28T22:22:58.986429Z"
    }
   },
   "outputs": [
    {
     "name": "stdout",
     "output_type": "stream",
     "text": [
      "Wall time: 0 ns\n"
     ]
    },
    {
     "data": {
      "image/png": "[encoded data removed]",
      "text/plain": [
       "<Figure size 432x288 with 1 Axes>"
      ]
     },
     "metadata": {
      "needs_background": "light"
     },
     "output_type": "display_data"
    }
   ],
   "source": [
    "import matplotlib.pyplot as plt\n",
    "%time \n",
    "for i, (xb, yb) in enumerate(itr):   \n",
    "    #xb, yb = xb.to(device), yb = yb.to(device)\n",
    "    \n",
    "    xb, yb = cutmix(xb, yb[:,0], yb[:,1], yb[:,2], 1)\n",
    "    \n",
    "    plt.imshow(xb[1][2])\n",
    "    \n",
    "    if i == 1: break"
   ]
  },
  {
   "cell_type": "code",
   "execution_count": null,
   "metadata": {},
   "outputs": [],
   "source": []
  }
 ],
 "metadata": {
  "kernelspec": {
   "display_name": "Conda: Bengaliai",
   "language": "python",
   "name": "bengaliai"
  },
  "language_info": {
   "codemirror_mode": {
    "name": "ipython",
    "version": 3
   },
   "file_extension": ".py",
   "mimetype": "text/x-python",
   "name": "python",
   "nbconvert_exporter": "python",
   "pygments_lexer": "ipython3",
   "version": "3.8.1"
  },
  "toc": {
   "base_numbering": 1,
   "nav_menu": {},
   "number_sections": true,
   "sideBar": true,
   "skip_h1_title": false,
   "title_cell": "Table of Contents",
   "title_sidebar": "Contents",
   "toc_cell": false,
   "toc_position": {},
   "toc_section_display": true,
   "toc_window_display": false
  }
 },
 "nbformat": 4,
 "nbformat_minor": 4
}
