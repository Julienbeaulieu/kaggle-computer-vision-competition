{
 "cells": [
  {
   "cell_type": "code",
   "execution_count": 1,
   "metadata": {
    "ExecuteTime": {
     "end_time": "2020-03-04T03:59:46.383637Z",
     "start_time": "2020-03-04T03:59:46.351675Z"
    }
   },
   "outputs": [],
   "source": [
    "%load_ext autoreload\n",
    "%autoreload 2"
   ]
  },
  {
   "cell_type": "code",
   "execution_count": 2,
   "metadata": {
    "ExecuteTime": {
     "end_time": "2020-03-04T03:59:47.245333Z",
     "start_time": "2020-03-04T03:59:46.496289Z"
    }
   },
   "outputs": [],
   "source": [
    "import sys\n",
    "import math\n",
    "import pickle\n",
    "sys.path.append('../')\n",
    "import torch\n",
    "from src.config.config import cfg\n",
    "import matplotlib.pyplot as plt\n",
    "\n",
    "# from src.modeling.backbone.build import build_backbone, BACKBONE_REGISTRY\n",
    "# from src.modeling.meta_arch.baseline import build_baseline_model\n",
    "# from src.modeling.meta_arch.build import build_model\n",
    "# from src.data.bengali_data import build_data_loader\n",
    "# from src.modeling.solver.optimizer import build_optimizer\n",
    "# from src.modeling.solver.evaluation import build_evaluator"
   ]
  },
  {
   "cell_type": "code",
   "execution_count": 3,
   "metadata": {
    "ExecuteTime": {
     "end_time": "2020-03-04T03:59:48.244612Z",
     "start_time": "2020-03-04T03:59:47.246302Z"
    }
   },
   "outputs": [],
   "source": [
    "from src.tools.find_lr import *"
   ]
  },
  {
   "cell_type": "code",
   "execution_count": 4,
   "metadata": {
    "ExecuteTime": {
     "end_time": "2020-03-04T04:07:15.935256Z",
     "start_time": "2020-03-04T03:59:48.246608Z"
    }
   },
   "outputs": [
    {
     "name": "stdout",
     "output_type": "stream",
     "text": [
      "0 9.582100868225098 0.0677083358168602\n",
      "100 8.625136375427246 0.1458333432674408\n",
      "200 9.3049955368042 0.1510416716337204\n",
      "300 8.838427543640137 0.2447916716337204\n",
      "400 7.788935661315918 0.1979166716337204\n",
      "500 7.416871070861816 0.25\n",
      "600 7.09581995010376 0.3697916865348816\n",
      "700 6.1077752113342285 0.2083333432674408\n",
      "800 8.088155746459961 0.4010416865348816\n",
      "900 7.546280860900879 0.2708333432674408\n",
      "1000 6.730316162109375 0.1666666716337204\n",
      "1100 8.204172134399414 0.3385416865348816\n",
      "1200 10.843878746032715 0.203125\n"
     ]
    }
   ],
   "source": [
    "log_lrs, losses = find_lr(cfg)"
   ]
  },
  {
   "cell_type": "code",
   "execution_count": 5,
   "metadata": {
    "ExecuteTime": {
     "end_time": "2020-03-04T04:07:16.138530Z",
     "start_time": "2020-03-04T04:07:15.937097Z"
    }
   },
   "outputs": [
    {
     "data": {
      "text/plain": [
       "[<matplotlib.lines.Line2D at 0x23011fc3c40>]"
      ]
     },
     "execution_count": 5,
     "metadata": {},
     "output_type": "execute_result"
    },
    {
     "data": {
      "image/png": "[encoded data removed]",
      "text/plain": [
       "<Figure size 432x288 with 1 Axes>"
      ]
     },
     "metadata": {
      "needs_background": "light"
     },
     "output_type": "display_data"
    }
   ],
   "source": [
    "plt.plot(log_lrs,losses)"
   ]
  },
  {
   "cell_type": "code",
   "execution_count": 13,
   "metadata": {
    "ExecuteTime": {
     "end_time": "2020-02-23T14:48:14.753490Z",
     "start_time": "2020-02-23T14:48:14.748505Z"
    }
   },
   "outputs": [],
   "source": [
    "import math\n",
    "from functools import partial\n",
    "from typing import List, Dict, Union, Optional, Iterable"
   ]
  },
  {
   "cell_type": "code",
   "execution_count": 14,
   "metadata": {
    "ExecuteTime": {
     "end_time": "2020-02-23T14:48:14.939991Z",
     "start_time": "2020-02-23T14:48:14.915058Z"
    }
   },
   "outputs": [],
   "source": [
    "def is_listy(x): return isinstance(x, (list,tuple))\n",
    "\n",
    "def tensor(x, *rest):\n",
    "    \"Like `torch.as_tensor`, but handle lists too, and can pass multiple vector elements directly.\"\n",
    "    if len(rest): x = (x,)+rest\n",
    "    # XXX: Pytorch bug in dataloader using num_workers>0; TODO: create repro and report\n",
    "    if is_listy(x) and len(x)==0: return tensor(0)\n",
    "    res = torch.tensor(x) if is_listy(x) else torch.as_tensor(x)\n",
    "    if res.dtype is torch.int32:\n",
    "        #warn('Tensor is int32: upgrading to int64; for better performance use int64 input')\n",
    "        return res.long()\n",
    "    return res\n",
    "\n",
    "\n",
    "def annealer(f):\n",
    "    def _inner(start, end): return partial(f, start, end)\n",
    "    return _inner\n",
    "\n",
    "@annealer\n",
    "def sched_lin(start, end, pos): return start + pos*(end-start)\n",
    "\n",
    "@annealer\n",
    "def sched_cos(start, end, pos): return start + (1 + math.cos(math.pi*(1-pos))) * (end-start) / 2\n",
    "@annealer\n",
    "def sched_no(start, end, pos):  return start\n",
    "@annealer\n",
    "def sched_exp(start, end, pos): return start * (end/start) ** pos\n",
    "\n",
    "def cos_1cycle_anneal(start, high, end):\n",
    "    return [sched_cos(start, high), sched_cos(high, end)]\n",
    "\n",
    "\n",
    "def listify(p=None, q=None):\n",
    "    \"Make `p` listy and the same length as `q`.\"\n",
    "    if p is None: p=[]\n",
    "    elif isinstance(p, str):          p = [p]\n",
    "    elif not isinstance(p, Iterable): p = [p]\n",
    "    #Rank 0 tensors in PyTorch are Iterable but don't have a length.\n",
    "    else:\n",
    "        try: a = len(p)\n",
    "        except: p = [p]\n",
    "    n = q if type(q)==int else len(p) if q is None else len(q)\n",
    "    if len(p)==1: p = p * n\n",
    "    assert len(p)==n, f'List len mismatch ({len(p)} vs {n})'\n",
    "    return list(p)\n",
    "\n",
    "def combine_scheds(pcts, scheds):\n",
    "    assert sum(pcts) == 1.\n",
    "    pcts = tensor([0] + listify(pcts))\n",
    "    assert torch.all(pcts >= 0)\n",
    "    pcts = torch.cumsum(pcts, 0)\n",
    "    def _inner(pos):\n",
    "        idx = (pos >= pcts).nonzero().max()\n",
    "        actual_pos = (pos-pcts[idx]) / (pcts[idx+1]-pcts[idx])\n",
    "        return scheds[idx](actual_pos)\n",
    "    return _inner"
   ]
  },
  {
   "cell_type": "markdown",
   "metadata": {},
   "source": []
  },
  {
   "cell_type": "code",
   "execution_count": 17,
   "metadata": {
    "ExecuteTime": {
     "end_time": "2020-02-23T14:48:33.024613Z",
     "start_time": "2020-02-23T14:48:33.017632Z"
    }
   },
   "outputs": [
    {
     "data": {
      "text/plain": [
       "<function __main__.combine_scheds.<locals>._inner(pos)>"
      ]
     },
     "execution_count": 17,
     "metadata": {},
     "output_type": "execute_result"
    }
   ],
   "source": [
    "combine_scheds([0.3, 0.7], [sched_cos(0.003, 0.01), sched_cos(0.01, 0.002)]) "
   ]
  },
  {
   "cell_type": "code",
   "execution_count": null,
   "metadata": {},
   "outputs": [],
   "source": []
  }
 ],
 "metadata": {
  "kernelspec": {
   "display_name": "Conda: Bengaliai",
   "language": "python",
   "name": "bengaliai"
  },
  "language_info": {
   "codemirror_mode": {
    "name": "ipython",
    "version": 3
   },
   "file_extension": ".py",
   "mimetype": "text/x-python",
   "name": "python",
   "nbconvert_exporter": "python",
   "pygments_lexer": "ipython3",
   "version": "3.8.1"
  },
  "toc": {
   "base_numbering": 1,
   "nav_menu": {},
   "number_sections": true,
   "sideBar": true,
   "skip_h1_title": false,
   "title_cell": "Table of Contents",
   "title_sidebar": "Contents",
   "toc_cell": false,
   "toc_position": {},
   "toc_section_display": true,
   "toc_window_display": false
  }
 },
 "nbformat": 4,
 "nbformat_minor": 4
}
