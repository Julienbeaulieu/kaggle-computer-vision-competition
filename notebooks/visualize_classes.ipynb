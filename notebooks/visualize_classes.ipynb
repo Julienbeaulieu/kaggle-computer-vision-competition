{
 "cells": [
  {
   "cell_type": "code",
   "execution_count": null,
   "metadata": {},
   "outputs": [],
   "source": [
    "from dotenv import load_dotenv, find_dotenv\n",
    "\n",
    "# Load the .ENV path. \n",
    "load_dotenv(find_dotenv())\n",
    "\n",
    "# Get Env variable on the pathing. \n",
    "import os\n",
    "PATH_DATA_INTERIM=os.getenv(\"PATH_DATA_INTERIM\")\n",
    "PATH_DATA_RAW=os.getenv(\"PATH_DATA_RAW\")"
   ]
  },
  {
   "cell_type": "code",
   "execution_count": null,
   "metadata": {},
   "outputs": [],
   "source": [
    "import pickle\n",
    "from pathlib import Path\n",
    "\n",
    "# Load the labeling data for decoding purpose\n",
    "import pandas as pd\n",
    "grapheme_train = pd.read_csv(Path(PATH_DATA_RAW) / \"train.csv\")\n",
    "grapheme_train\n",
    "\n",
    "# Load the data, ~5GB\n",
    "with open(Path(PATH_DATA_INTERIM) / \"train_data.p\", 'rb') as pickle_file:\n",
    "    data_train = pickle.load(pickle_file)\n",
    "\n",
    "# Load the validation data, about 1.3GB\n",
    "with open(Path(PATH_DATA_INTERIM) / \"val_data.p\", 'rb') as pickle_file:\n",
    "    data_val = pickle.load(pickle_file)"
   ]
  },
  {
   "cell_type": "code",
   "execution_count": null,
   "metadata": {},
   "outputs": [],
   "source": [
    "# Load the class data for decoding purpose\n",
    "import pandas as pd\n",
    "grapheme_classes = pd.read_csv(Path(PATH_DATA_RAW) / \"class_map.csv\")\n",
    "grapheme_classes"
   ]
  },
  {
   "cell_type": "code",
   "execution_count": null,
   "metadata": {},
   "outputs": [],
   "source": [
    "list_labels = data_train[2][1]\n",
    "list_labels"
   ]
  },
  {
   "cell_type": "code",
   "execution_count": null,
   "metadata": {},
   "outputs": [],
   "source": [
    "def get_components(input_list:list):    \n",
    "    assert len(input_list)==3\n",
    "    component1=grapheme_classes[grapheme_classes.component_type.eq(\"grapheme_root\") & grapheme_classes.label.eq(input_list[0])].iloc[0].component\n",
    "    component2=grapheme_classes[grapheme_classes.component_type.eq(\"vowel_diacritic\") & grapheme_classes.label.eq(input_list[1])].iloc[0].component\n",
    "    component3=grapheme_classes[grapheme_classes.component_type.eq(\"consonant_diacritic\") & grapheme_classes.label.eq(input_list[2])].iloc[0].component\n",
    "    return [component1, component2, component3]\n",
    "get_components(list_labels)"
   ]
  },
  {
   "cell_type": "code",
   "execution_count": null,
   "metadata": {},
   "outputs": [],
   "source": [
    "classes_train = list(list(zip(*data_train))[1])\n"
   ]
  },
  {
   "cell_type": "code",
   "execution_count": null,
   "metadata": {},
   "outputs": [],
   "source": [
    "classes_train.filter()"
   ]
  },
  {
   "cell_type": "code",
   "execution_count": null,
   "metadata": {},
   "outputs": [],
   "source": [
    "total_root = grapheme_classes[grapheme_classes.component_type.eq(\"grapheme_root\")]\n",
    "total_vowel = grapheme_classes[grapheme_classes.component_type.eq(\"vowel_diacritic\")]\n",
    "total_consonant = grapheme_classes[grapheme_classes.component_type.eq(\"consonant_diacritic\")]\n",
    "\n",
    "len(total_root)\n",
    "total_vowel\n",
    "total_consonant\n",
    "import ipywidgets as widgets\n",
    "from ipywidgets import interact, interact_manual\n",
    "\n",
    "\n",
    "# Eg. 44.3.0\n",
    "\n",
    "@interact\n",
    "def show_count(index_root=(0, len(total_root)-1, 1), \n",
    "               index_vowel=(0, len(total_vowel)-1, 1), \n",
    "               index_consonant=(0, len(total_consonant)-1, 1)):            \n",
    "    # Look up the entries that have the same classifications.     \n",
    "    d = classes_train[classes_train.grapheme_root.eq(index_root) &\n",
    "                      classes_train.vowel_diacritic.eq(index_vowel) &\n",
    "                      classes_train.consonant_diacritic.eq(index_consonant)] \n",
    "    print(len(d))\n",
    "    print(d)\n",
    "    "
   ]
  },
  {
   "cell_type": "code",
   "execution_count": null,
   "metadata": {},
   "outputs": [],
   "source": [
    "# Dual showing the images: training on the left and validation on the right. \n",
    "# Showing classes and instance of those classes: \n",
    "\n",
    "# \n",
    "\n",
    "# Get the classification from the label\n",
    "a, b, c = tuple(data_train[index_train][1])\n",
    "# Look up the entries that have the same classifications.     \n",
    "d = grapheme_train[grapheme_train.grapheme_root.eq(a) & grapheme_train.vowel_diacritic.eq(b) & grapheme_train.consonant_diacritic.eq(c)] \n",
    "# Show the first one and its grapheme (since they all should have the same grapheme)\n",
    "from IPython.display import display, Markdown\n",
    "display(Markdown('<h1>{}</h1>'.format(f\"Character{d.iloc[0].grapheme}\")))\n",
    "#print(f\"Character{d.iloc[0].grapheme}\")\n",
    "\n",
    "\n",
    "\n",
    "@interact\n",
    "def show_image(index_train=(0,len(data_train)-1,1), index_val=(0,len(data_val)-1,1)):\n",
    "    \n",
    "    # Load the training image index    \n",
    "    img_train = Image.fromarray(data_train[index_train][0], \"L\")\n",
    "    \n",
    "    # Load the validation image index\n",
    "    img_val = Image.fromarray(data_train[index_val][0], \"L\")\n",
    "\n",
    "    # Compose into the composite array laytout\n",
    "    f, axarr = plt.subplots(1,2)\n",
    "    axarr[0].imshow(img_train, cmap='gray')\n",
    "    axarr[0].set_title(\"Training Set\")\n",
    "    axarr[1].imshow(img_val, cmap='gray')    \n",
    "    axarr[1].set_title(\"Validation Set\")\n",
    "    f.set_size_inches(18.5, 10.5)\n",
    "    f.suptitle(\"Raw Grapheme Images\", fontsize=40)\n",
    "    \n",
    "    # Get the classification from the label\n",
    "    a, b, c = tuple(data_train[index_train][1])\n",
    "    # Look up the entries that have the same classifications.     \n",
    "    d = grapheme_train[grapheme_train.grapheme_root.eq(a) & grapheme_train.vowel_diacritic.eq(b) & grapheme_train.consonant_diacritic.eq(c)] \n",
    "    # Show the first one and its grapheme (since they all should have the same grapheme)\n",
    "    from IPython.display import display, Markdown\n",
    "    display(Markdown('<h1>{}</h1>'.format(f\"Character{d.iloc[0].grapheme}\")))\n",
    "    #print(f\"Character{d.iloc[0].grapheme}\")\n",
    "    "
   ]
  },
  {
   "cell_type": "code",
   "execution_count": null,
   "metadata": {},
   "outputs": [],
   "source": []
  }
 ],
 "metadata": {
  "kernelspec": {
   "display_name": "Python 3",
   "language": "python",
   "name": "python3"
  },
  "language_info": {
   "codemirror_mode": {
    "name": "ipython",
    "version": 3
   },
   "file_extension": ".py",
   "mimetype": "text/x-python",
   "name": "python",
   "nbconvert_exporter": "python",
   "pygments_lexer": "ipython3",
   "version": "3.7.6"
  }
 },
 "nbformat": 4,
 "nbformat_minor": 2
}
